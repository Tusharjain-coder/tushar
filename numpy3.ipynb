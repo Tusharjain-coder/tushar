{
 "cells": [
  {
   "cell_type": "code",
   "execution_count": 1,
   "id": "bbcae4cb-62c2-4923-be4a-73982d548dac",
   "metadata": {},
   "outputs": [],
   "source": [
    "import numpy as np"
   ]
  },
  {
   "cell_type": "markdown",
   "id": "75a7537a-a251-4d38-8432-c0ecbe408410",
   "metadata": {},
   "source": [
    "## creation of empty numpy "
   ]
  },
  {
   "cell_type": "code",
   "execution_count": 3,
   "id": "8834c092-215b-44fe-8377-60f1b8d3fc90",
   "metadata": {},
   "outputs": [
    {
     "name": "stdout",
     "output_type": "stream",
     "text": [
      "[[0.0000000e+000 1.1610603e-311]\n",
      " [1.1610603e-311 1.1610603e-311]]\n"
     ]
    }
   ],
   "source": [
    "emp=np.empty([2,2]) #first parameter as shape\n",
    "print(emp)"
   ]
  },
  {
   "cell_type": "code",
   "execution_count": 4,
   "id": "13d27ce0-f0f9-4dea-9e82-0b316774e747",
   "metadata": {},
   "outputs": [
    {
     "data": {
      "text/plain": [
       "array([[0., 0., 0.],\n",
       "       [0., 0., 0.],\n",
       "       [0., 0., 0.]])"
      ]
     },
     "execution_count": 4,
     "metadata": {},
     "output_type": "execute_result"
    }
   ],
   "source": [
    "emp1=np.empty(shape=[3,3])\n",
    "emp1"
   ]
  },
  {
   "cell_type": "markdown",
   "id": "ddbe4d34-7176-4818-a7b4-b75843cda793",
   "metadata": {},
   "source": [
    "# creating of zeros "
   ]
  },
  {
   "cell_type": "code",
   "execution_count": 11,
   "id": "8d796b7b-c9a7-47ca-8ea7-761482920c14",
   "metadata": {},
   "outputs": [
    {
     "name": "stdout",
     "output_type": "stream",
     "text": [
      "[[0 0 0]\n",
      " [0 0 0]\n",
      " [0 0 0]]\n"
     ]
    }
   ],
   "source": [
    "z=np.zeros(shape=[3,3],dtype='int32')\n",
    "print(z)\n",
    "#print(z.dtype())"
   ]
  },
  {
   "cell_type": "markdown",
   "id": "75446bc2-7a78-47d7-90e2-a51c7dea1383",
   "metadata": {},
   "source": [
    "### creating of the array with one value"
   ]
  },
  {
   "cell_type": "code",
   "execution_count": 16,
   "id": "5035c9c4-f57d-4a8b-8433-fae71b0538f8",
   "metadata": {},
   "outputs": [
    {
     "name": "stdout",
     "output_type": "stream",
     "text": [
      "[[1. 1. 1.]\n",
      " [1. 1. 1.]\n",
      " [1. 1. 1.]]\n"
     ]
    }
   ],
   "source": [
    "o=np.ones(shape=[3,3],dtype='float64')\n",
    "print(o)"
   ]
  },
  {
   "cell_type": "markdown",
   "id": "ba4fd6d7-6db0-4265-8873-4e70dcca49d2",
   "metadata": {},
   "source": [
    "## using of full"
   ]
  },
  {
   "cell_type": "code",
   "execution_count": 20,
   "id": "5f8ffdb1-7af7-4008-9a24-6e653c70bb9f",
   "metadata": {},
   "outputs": [
    {
     "name": "stdout",
     "output_type": "stream",
     "text": [
      "[[5 5 5 5 5]\n",
      " [5 5 5 5 5]\n",
      " [5 5 5 5 5]\n",
      " [5 5 5 5 5]\n",
      " [5 5 5 5 5]]\n"
     ]
    }
   ],
   "source": [
    "f=np.full(shape=[5,5],fill_value=5)\n",
    "print(f)"
   ]
  },
  {
   "cell_type": "code",
   "execution_count": 22,
   "id": "e1951ea0-0d38-4f4a-9907-5d71b4236b6b",
   "metadata": {},
   "outputs": [
    {
     "data": {
      "text/plain": [
       "array([[5., 5., 5., 5., 5.],\n",
       "       [5., 5., 5., 5., 5.],\n",
       "       [5., 5., 5., 5., 5.],\n",
       "       [5., 5., 5., 5., 5.],\n",
       "       [5., 5., 5., 5., 5.]])"
      ]
     },
     "execution_count": 22,
     "metadata": {},
     "output_type": "execute_result"
    }
   ],
   "source": [
    "f=np.full(shape=[5,5],fill_value=5,dtype='float64')\n",
    "f"
   ]
  },
  {
   "cell_type": "markdown",
   "id": "2b946581-db95-480f-8661-aebfe3a51281",
   "metadata": {},
   "source": [
    "## identity matrix"
   ]
  },
  {
   "cell_type": "code",
   "execution_count": 23,
   "id": "bf29df5f-275f-4eef-b528-01a98f652198",
   "metadata": {},
   "outputs": [
    {
     "name": "stdout",
     "output_type": "stream",
     "text": [
      "[[1. 0. 0. 0.]\n",
      " [0. 1. 0. 0.]\n",
      " [0. 0. 1. 0.]\n",
      " [0. 0. 0. 1.]]\n"
     ]
    }
   ],
   "source": [
    "i=np.eye(4)\n",
    "print(i)"
   ]
  },
  {
   "cell_type": "markdown",
   "id": "e0f21cbb-75f2-4e85-887f-7eb6a7f2e62f",
   "metadata": {},
   "source": [
    "# np.arange()"
   ]
  },
  {
   "cell_type": "code",
   "execution_count": 26,
   "id": "bc7df429-fe58-4fd7-b021-4767d60cb94a",
   "metadata": {},
   "outputs": [
    {
     "name": "stdout",
     "output_type": "stream",
     "text": [
      "[ 1.  2.  3.  4.  5.  6.  7.  8.  9. 10.]\n"
     ]
    }
   ],
   "source": [
    "a=np.arange(1,11,dtype='float64')\n",
    "print(a)"
   ]
  },
  {
   "cell_type": "code",
   "execution_count": 29,
   "id": "62768131-515c-41e1-900c-55251f94e6af",
   "metadata": {},
   "outputs": [
    {
     "name": "stdout",
     "output_type": "stream",
     "text": [
      "[ 1  3  5  7  9 11 13 15 17 19]\n"
     ]
    },
    {
     "data": {
      "text/plain": [
       "array([[ 1,  3,  5,  7,  9],\n",
       "       [11, 13, 15, 17, 19]])"
      ]
     },
     "execution_count": 29,
     "metadata": {},
     "output_type": "execute_result"
    }
   ],
   "source": [
    "a=np.arange(1,21,2)\n",
    "print(a)\n",
    "a=a.reshape([2,5])\n",
    "a"
   ]
  },
  {
   "cell_type": "code",
   "execution_count": 33,
   "id": "3471098e-bd1e-4c26-9a9e-dab9fb65ae34",
   "metadata": {},
   "outputs": [
    {
     "name": "stdout",
     "output_type": "stream",
     "text": [
      "[ 2  4  6  8 10 12 14 16 18 20]\n"
     ]
    },
    {
     "data": {
      "text/plain": [
       "array([[ 2,  4],\n",
       "       [ 6,  8],\n",
       "       [10, 12],\n",
       "       [14, 16],\n",
       "       [18, 20]])"
      ]
     },
     "execution_count": 33,
     "metadata": {},
     "output_type": "execute_result"
    }
   ],
   "source": [
    "b=np.arange(2,21,2)\n",
    "print(b)\n",
    "b=b.reshape([5,2])\n",
    "b"
   ]
  },
  {
   "cell_type": "markdown",
   "id": "ba4f82d8-7086-4a22-b907-23bf7562e3e9",
   "metadata": {},
   "source": [
    "## np.linspace"
   ]
  },
  {
   "cell_type": "code",
   "execution_count": 37,
   "id": "bbb4e2ee-69b5-414e-8cec-2511ab505129",
   "metadata": {},
   "outputs": [
    {
     "name": "stdout",
     "output_type": "stream",
     "text": [
      "[ 5.          6.66666667  8.33333333 10.         11.66666667 13.33333333\n",
      " 15.         16.66666667 18.33333333 20.        ]\n",
      "10\n"
     ]
    }
   ],
   "source": [
    "l=np.linspace(5,20,10)\n",
    "print(l)\n",
    "print(len(l))"
   ]
  },
  {
   "cell_type": "code",
   "execution_count": null,
   "id": "19de3327-1b07-4afa-b8b4-ab07b6a10b8b",
   "metadata": {},
   "outputs": [],
   "source": [
    "\n",
    "\n",
    "\n",
    "\n"
   ]
  },
  {
   "cell_type": "code",
   "execution_count": null,
   "id": "385f0d3c-20aa-4205-a5e4-f4f844acd39d",
   "metadata": {},
   "outputs": [],
   "source": []
  }
 ],
 "metadata": {
  "kernelspec": {
   "display_name": "Python 3 (ipykernel)",
   "language": "python",
   "name": "python3"
  },
  "language_info": {
   "codemirror_mode": {
    "name": "ipython",
    "version": 3
   },
   "file_extension": ".py",
   "mimetype": "text/x-python",
   "name": "python",
   "nbconvert_exporter": "python",
   "pygments_lexer": "ipython3",
   "version": "3.11.7"
  }
 },
 "nbformat": 4,
 "nbformat_minor": 5
}
